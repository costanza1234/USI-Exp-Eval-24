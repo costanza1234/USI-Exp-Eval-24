{
 "cells": [
  {
   "cell_type": "markdown",
   "metadata": {},
   "source": [
    "1. fai una join su id\n",
    "2. prima cosa dividi tra camel e kebab (tieni traccia di chi sta rispondendo)\n",
    "3. dividi per cs background \n",
    "4. calcola accuracy (numeri di risposte corrette / il numero di risposte totali) per ogni persona di ogni gruppo e poi fai la media intra gruppo : cosi ho l'accuracy media\n",
    "e poi lo fai per ogni cs background\n",
    "5. tenendo conto di solo le risposte corrette, calcoli il tempo medio di risposta di ogni persona di ogni gruppo\n",
    "6. poi fai il paired t test per vedere se ci sono differenze significative tra i gruppi"
   ]
  },
  {
   "cell_type": "code",
   "execution_count": 16,
   "metadata": {},
   "outputs": [],
   "source": [
    "import pandas as pd\n",
    "import numpy as np\n",
    "\n",
    "# Load the data\n",
    "df = pd.read_csv('code-comprehension.runs.csv')\n",
    "\n",
    "# Loop through columns containing 'questionId' and apply the mapping\n",
    "for i in range(20):  # Iterate over the 20 questionId columns\n",
    "    column_name = f'results[{i}].questionId'  # Dynamically format the column name\n",
    "    if column_name in df.columns:  # Ensure the column exists\n",
    "        # Map the values based on the conditions\n",
    "        df[column_name] = np.where(\n",
    "            df[column_name].between(0, 9),  # Condition for camelCase\n",
    "            'camelCase',\n",
    "            np.where(\n",
    "                df[column_name].between(10, 19),  # Condition for kebab-case\n",
    "                'kebab-case',\n",
    "                df[column_name]  # Keep the original value if not in range\n",
    "            )\n",
    "        )\n",
    "\n",
    "# Save the updated data back to CSV\n",
    "df.to_csv('code-comprehension.runs.csv', index=False)"
   ]
  },
  {
   "cell_type": "code",
   "execution_count": 18,
   "metadata": {},
   "outputs": [],
   "source": [
    "def transform_user_data(file_path, output_path):\n",
    "    # Load the dataset\n",
    "    data = pd.read_csv(file_path)\n",
    "\n",
    "    # Identify user-specific and demographic columns\n",
    "    user_cols = ['_id', 'demographics.age', 'demographics.csBackground',\n",
    "                 'demographics.yearsOfExperience']\n",
    "    question_cols = [col for col in data.columns if col.startswith('results')]\n",
    "\n",
    "    # Separate the data for reshaping\n",
    "    user_data = data[user_cols]\n",
    "    question_data = data[question_cols]\n",
    "\n",
    "    # Melt the question-related data to long format\n",
    "    melted = question_data.melt(ignore_index=False, var_name='question_metric', value_name='value')\n",
    "\n",
    "    # Extract question number and metric type (elapsedTime, isCorrect, questionId)\n",
    "    melted['question'] = melted['question_metric'].str.extract(r'results\\[(\\d+)\\]')\n",
    "    melted['metric'] = melted['question_metric'].str.extract(r'results\\[\\d+\\]\\.(.+)')\n",
    "\n",
    "    # Pivot to have one row per question with columns for elapsedTime, isCorrect, questionId\n",
    "    reshaped = melted.pivot_table(index=[melted.index, 'question'], columns='metric', values='value', aggfunc='first').reset_index()\n",
    "\n",
    "    # Merge back with user demographic data\n",
    "    reshaped = reshaped.merge(user_data, left_on='level_0', right_index=True).drop(columns=['level_0'])\n",
    "\n",
    "    # Rename columns for clarity\n",
    "    reshaped = reshaped.rename(columns={\n",
    "        'question': 'question_number',\n",
    "        'elapsedTime': 'elapsed_time',\n",
    "        'isCorrect': 'is_correct',\n",
    "        'questionId': 'question_id'\n",
    "    })\n",
    "\n",
    "    reshaped['question_id'] = reshaped['question_id'].replace(20, 'camelCase')\n",
    "\n",
    "    # Convert data types where necessary\n",
    "    reshaped['question_number'] = reshaped['question_number'].astype(int)\n",
    "    reshaped['elapsed_time'] = pd.to_numeric(reshaped['elapsed_time'], errors='coerce')\n",
    "    reshaped['is_correct'] = reshaped['is_correct'].astype('bool', errors='ignore')\n",
    "\n",
    "    # print(reshaped.head(20))\n",
    "\n",
    "    # Save the transformed data to a CSV file\n",
    "    reshaped.to_csv(output_path, index=False)\n",
    "    \n",
    "transform_user_data('code-comprehension.runs.csv', 'transformed_data.csv')"
   ]
  },
  {
   "cell_type": "code",
   "execution_count": null,
   "metadata": {},
   "outputs": [],
   "source": [
    "import pandas as pd\n",
    "# Open transformed data\n",
    "transformed_data = pd.read_csv('results/transformed_data.csv')\n",
    "\n",
    "transformed_data = transformed_data[transformed_data['is_correct'] == True]\n",
    "\n",
    "transformed_data.to_csv('correct_answers.csv', index=False)\n"
   ]
  },
  {
   "cell_type": "code",
   "execution_count": 16,
   "metadata": {},
   "outputs": [],
   "source": [
    "import pandas as pd\n",
    "# Open transformed data\n",
    "transformed_data = pd.read_csv('results/transformed_data.csv')\n",
    "\n",
    "# Filter rows for each case style\n",
    "kebab_case = transformed_data[transformed_data['question_id'] == 'kebab-case']\n",
    "camel_case = transformed_data[transformed_data['question_id'] == 'camelCase']\n",
    "\n",
    "# Filter rows where is_correct is True\n",
    "kebab_case = kebab_case[kebab_case['is_correct'] == True]\n",
    "camel_case = camel_case[camel_case['is_correct'] == True]\n",
    "\n",
    "# Combine the rows for each `_id` into two columns\n",
    "paired_data = pd.DataFrame()\n",
    "for unique_id in transformed_data['_id'].unique():\n",
    "    kebab_subset = kebab_case[kebab_case['_id'] == unique_id].head(10).reset_index(drop=True)\n",
    "    camel_subset = camel_case[camel_case['_id'] == unique_id].head(10).reset_index(drop=True)\n",
    "    paired_subset = pd.concat([kebab_subset[['elapsed_time']].rename(columns={'elapsed_time': 'kebab-case'}),\n",
    "                                camel_subset[['elapsed_time']].rename(columns={'elapsed_time': 'camelCase'})], axis=1)\n",
    "    paired_subset['_id'] = unique_id\n",
    "    paired_data = pd.concat([paired_data, paired_subset], ignore_index=True)\n",
    "\n",
    "paired_data.to_csv('paired_dataTEST.csv', index=False)"
   ]
  },
  {
   "cell_type": "code",
   "execution_count": 21,
   "metadata": {},
   "outputs": [
    {
     "name": "stdout",
     "output_type": "stream",
     "text": [
      "36.0\n"
     ]
    }
   ],
   "source": [
    "#open transofrmed data\n",
    "transformed_data = pd.read_csv('results/transformed_data.csv')\n",
    "\n",
    "print(transformed_data.shape[0]/20)"
   ]
  },
  {
   "cell_type": "code",
   "execution_count": 20,
   "metadata": {},
   "outputs": [
    {
     "name": "stdout",
     "output_type": "stream",
     "text": [
      "CSBG correct:  457 incorrect:  43 ratio:  0.914\n",
      "NON CSBG correct:  207 incorrect:  13 ratio:  0.9409090909090909\n"
     ]
    }
   ],
   "source": [
    "import pandas as pd\n",
    "# Open transformed data\n",
    "transformed_data = pd.read_csv('results/transformed_data.csv')\n",
    "\n",
    "csBackground = transformed_data[transformed_data['demographics.csBackground'] == True]\n",
    "\n",
    "# transformed_data.to_csv('csBackground_answers.csv', index=False)\n",
    "\n",
    "correct = csBackground[csBackground['is_correct'] == True].shape[0]\n",
    "incorrect = csBackground[csBackground['is_correct'] == False].shape[0]\n",
    "ratio = correct / (correct + incorrect)\n",
    "\n",
    "print('CSBG correct: ', correct, 'incorrect: ', incorrect, 'ratio: ', ratio)\n",
    "\n",
    "nonCsBackground_answers = transformed_data[transformed_data['demographics.csBackground'] == False]\n",
    "correct = nonCsBackground_answers[nonCsBackground_answers['is_correct'] == True].shape[0]\n",
    "incorrect = nonCsBackground_answers[nonCsBackground_answers['is_correct'] == False].shape[0]\n",
    "ratio = correct / (correct + incorrect)\n",
    "\n",
    "# nonCsBackground_answers.to_csv('nonCsBackground_answers.csv', index=False)\n",
    "\n",
    "print('NON CSBG correct: ', correct, 'incorrect: ', incorrect, 'ratio: ', ratio)\n"
   ]
  }
 ],
 "metadata": {
  "kernelspec": {
   "display_name": "Python 3",
   "language": "python",
   "name": "python3"
  },
  "language_info": {
   "codemirror_mode": {
    "name": "ipython",
    "version": 3
   },
   "file_extension": ".py",
   "mimetype": "text/x-python",
   "name": "python",
   "nbconvert_exporter": "python",
   "pygments_lexer": "ipython3",
   "version": "3.11.9"
  }
 },
 "nbformat": 4,
 "nbformat_minor": 2
}
