{
 "cells": [
  {
   "cell_type": "markdown",
   "metadata": {},
   "source": [
    "fai una join su id\n",
    "prima cosa dividi tra camel e kebab (tieni traccia di chi sta rispondendo)\n",
    "dividi per cs background \n",
    "calcola accuracy (numeri di risposte corrette / il numero di risposte totali) per ogni persona di ogni gruppo e poi fai la media intra gruppo : cosi ho l'accuracy media\n",
    "e poi lo fai per ogni cs background\n",
    "tenendo conto di solo le risposte corrette, calcoli il tempo medio di risposta di ogni persona di ogni gruppo\n",
    "poi fai il paired t test per vedere se ci sono differenze significative tra i gruppi"
   ]
  },
  {
   "cell_type": "code",
   "execution_count": 16,
   "metadata": {},
   "outputs": [],
   "source": [
    "import pandas as pd\n",
    "import numpy as np\n",
    "\n",
    "# Load the data\n",
    "df = pd.read_csv('code-comprehension.runs.csv')\n",
    "\n",
    "# Loop through columns containing 'questionId' and apply the mapping\n",
    "for i in range(20):  # Iterate over the 20 questionId columns\n",
    "    column_name = f'results[{i}].questionId'  # Dynamically format the column name\n",
    "    if column_name in df.columns:  # Ensure the column exists\n",
    "        # Map the values based on the conditions\n",
    "        df[column_name] = np.where(\n",
    "            df[column_name].between(0, 9),  # Condition for camelCase\n",
    "            'camelCase',\n",
    "            np.where(\n",
    "                df[column_name].between(10, 19),  # Condition for kebab-case\n",
    "                'kebab-case',\n",
    "                df[column_name]  # Keep the original value if not in range\n",
    "            )\n",
    "        )\n",
    "\n",
    "# Save the updated data back to CSV\n",
    "df.to_csv('code-comprehension.runs.csv', index=False)"
   ]
  },
  {
   "cell_type": "code",
   "execution_count": 18,
   "metadata": {},
   "outputs": [],
   "source": [
    "import pandas as pd\n",
    "\n",
    "def transform_user_data(file_path, output_path):\n",
    "    # Load the dataset\n",
    "    data = pd.read_csv(file_path)\n",
    "\n",
    "    # Identify user-specific and demographic columns\n",
    "    user_cols = ['_id', 'demographics.age', 'demographics.csBackground',\n",
    "                 'demographics.yearsOfExperience']\n",
    "    question_cols = [col for col in data.columns if col.startswith('results')]\n",
    "\n",
    "    # Separate the data for reshaping\n",
    "    user_data = data[user_cols]\n",
    "    question_data = data[question_cols]\n",
    "\n",
    "    # Melt the question-related data to long format\n",
    "    melted = question_data.melt(ignore_index=False, var_name='question_metric', value_name='value')\n",
    "\n",
    "    # Extract question number and metric type (elapsedTime, isCorrect, questionId)\n",
    "    melted['question'] = melted['question_metric'].str.extract(r'results\\[(\\d+)\\]')\n",
    "    melted['metric'] = melted['question_metric'].str.extract(r'results\\[\\d+\\]\\.(.+)')\n",
    "\n",
    "    # Pivot to have one row per question with columns for elapsedTime, isCorrect, questionId\n",
    "    reshaped = melted.pivot_table(index=[melted.index, 'question'], columns='metric', values='value', aggfunc='first').reset_index()\n",
    "\n",
    "    # Merge back with user demographic data\n",
    "    reshaped = reshaped.merge(user_data, left_on='level_0', right_index=True).drop(columns=['level_0'])\n",
    "\n",
    "    # Rename columns for clarity\n",
    "    reshaped = reshaped.rename(columns={\n",
    "        'question': 'question_number',\n",
    "        'elapsedTime': 'elapsed_time',\n",
    "        'isCorrect': 'is_correct',\n",
    "        'questionId': 'question_id'\n",
    "    })\n",
    "\n",
    "    reshaped['question_id'] = reshaped['question_id'].replace(20, 'camelCase')\n",
    "\n",
    "    # Convert data types where necessary\n",
    "    reshaped['question_number'] = reshaped['question_number'].astype(int)\n",
    "    reshaped['elapsed_time'] = pd.to_numeric(reshaped['elapsed_time'], errors='coerce')\n",
    "    reshaped['is_correct'] = reshaped['is_correct'].astype('bool', errors='ignore')\n",
    "\n",
    "    # print(reshaped.head(20))\n",
    "\n",
    "    # Save the transformed data to a CSV file\n",
    "    reshaped.to_csv(output_path, index=False)\n",
    "    \n",
    "transform_user_data('code-comprehension.runs.csv', 'transformed_data.csv')"
   ]
  }
 ],
 "metadata": {
  "kernelspec": {
   "display_name": "Python 3",
   "language": "python",
   "name": "python3"
  },
  "language_info": {
   "codemirror_mode": {
    "name": "ipython",
    "version": 3
   },
   "file_extension": ".py",
   "mimetype": "text/x-python",
   "name": "python",
   "nbconvert_exporter": "python",
   "pygments_lexer": "ipython3",
   "version": "3.11.9"
  }
 },
 "nbformat": 4,
 "nbformat_minor": 2
}
