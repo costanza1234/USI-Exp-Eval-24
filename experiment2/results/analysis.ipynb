{
 "cells": [
  {
   "cell_type": "markdown",
   "metadata": {},
   "source": [
    "fai una join su id\n",
    "prima cosa dividi tra camel e kebab (tieni traccia di chi sta rispondendo)\n",
    "dividi per cs background \n",
    "calcola accuracy (numeri di risposte corrette / il numero di risposte totali) per ogni persona di ogni gruppo e poi fai la media intra gruppo : cosi ho l'accuracy media\n",
    "e poi lo fai per ogni cs background\n",
    "tenendo conto di solo le risposte corrette, calcoli il tempo medio di risposta di ogni persona di ogni gruppo\n",
    "poi fai il paired t test per vedere se ci sono differenze significative tra i gruppi"
   ]
  },
  {
   "cell_type": "code",
   "execution_count": 16,
   "metadata": {},
   "outputs": [],
   "source": [
    "import pandas as pd\n",
    "import numpy as np\n",
    "\n",
    "# Load the data\n",
    "df = pd.read_csv('code-comprehension.runs.csv')\n",
    "\n",
    "# Loop through columns containing 'questionId' and apply the mapping\n",
    "for i in range(20):  # Iterate over the 20 questionId columns\n",
    "    column_name = f'results[{i}].questionId'  # Dynamically format the column name\n",
    "    if column_name in df.columns:  # Ensure the column exists\n",
    "        # Map the values based on the conditions\n",
    "        df[column_name] = np.where(\n",
    "            df[column_name].between(0, 9),  # Condition for camelCase\n",
    "            'camelCase',\n",
    "            np.where(\n",
    "                df[column_name].between(10, 19),  # Condition for kebab-case\n",
    "                'kebab-case',\n",
    "                df[column_name]  # Keep the original value if not in range\n",
    "            )\n",
    "        )\n",
    "\n",
    "# Save the updated data back to CSV\n",
    "df.to_csv('code-comprehension.runs.csv', index=False)"
   ]
  }
 ],
 "metadata": {
  "kernelspec": {
   "display_name": "Python 3",
   "language": "python",
   "name": "python3"
  },
  "language_info": {
   "codemirror_mode": {
    "name": "ipython",
    "version": 3
   },
   "file_extension": ".py",
   "mimetype": "text/x-python",
   "name": "python",
   "nbconvert_exporter": "python",
   "pygments_lexer": "ipython3",
   "version": "3.11.9"
  }
 },
 "nbformat": 4,
 "nbformat_minor": 2
}
